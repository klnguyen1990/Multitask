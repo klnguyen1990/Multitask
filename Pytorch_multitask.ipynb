{
 "cells": [
  {
   "cell_type": "code",
   "execution_count": 1,
   "metadata": {},
   "outputs": [
    {
     "name": "stdout",
     "output_type": "stream",
     "text": [
      "\n",
      "\n",
      "Please cite the following paper when using nnUNet:\n",
      "\n",
      "Isensee, F., Jaeger, P.F., Kohl, S.A.A. et al. \"nnU-Net: a self-configuring method for deep learning-based biomedical image segmentation.\" Nat Methods (2020). https://doi.org/10.1038/s41592-020-01008-z\n",
      "\n",
      "\n",
      "If you have questions or suggestions, feel free to open an issue at https://github.com/MIC-DKFZ/nnUNet\n",
      "\n"
     ]
    },
    {
     "name": "stderr",
     "output_type": "stream",
     "text": [
      "[NbConvertApp] Converting notebook Pytorch_model.ipynb to python\n",
      "[NbConvertApp] Writing 7784 bytes to Pytorch_model.py\n",
      "[NbConvertApp] Converting notebook Pytorch_train.ipynb to python\n",
      "[NbConvertApp] Writing 14472 bytes to Pytorch_train.py\n",
      "[NbConvertApp] Converting notebook Pytorch_dataloader.ipynb to python\n",
      "[NbConvertApp] Writing 13650 bytes to Pytorch_dataloader.py\n",
      "[NbConvertApp] Converting notebook preprocessing_Pytorch.ipynb to python\n",
      "[NbConvertApp] Writing 13332 bytes to preprocessing_Pytorch.py\n",
      "[NbConvertApp] Converting notebook Pytorch_utils.ipynb to python\n",
      "[NbConvertApp] Writing 10703 bytes to Pytorch_utils.py\n",
      "[NbConvertApp] Converting notebook roc_Precision_Recall.ipynb to python\n",
      "[NbConvertApp] Writing 4174 bytes to roc_Precision_Recall.py\n"
     ]
    }
   ],
   "source": [
    "import os\n",
    "import random\n",
    "import torch\n",
    "import numpy as np\n",
    "from nnunet.inference.predict import load_model_and_checkpoint_files\n",
    "from sklearn.metrics import f1_score\n",
    "\n",
    "os.system('jupyter nbconvert --to python Pytorch_model.ipynb')\n",
    "from Pytorch_model import nnUnet, Multitask_Net\n",
    "\n",
    "os.system('jupyter nbconvert --to python Pytorch_train.ipynb')\n",
    "#from Pytorch_train import train, evaluation\n",
    "from Pytorch_train import train, evaluation\n",
    "\n",
    "seed = 1\n",
    "torch.manual_seed(seed)\n",
    "random.seed(seed)\n",
    "np.random.seed(seed)"
   ]
  },
  {
   "cell_type": "code",
   "execution_count": 2,
   "metadata": {},
   "outputs": [],
   "source": [
    "#DATA\n",
    "dim = (32*4, 32*3, 32*6)\n",
    "spacing = 4\n",
    "\n",
    "#IMAGE GENERATOR\n",
    "scale = (0.80, 1.20)\n",
    "sigma = (0.3, 0.8)\n",
    "task = '001'\n",
    "#001 : PET PUV - 002 : PET sans SUV - 003 - PET CT 2 Channels - 004 - PET CT Fusion\n",
    "\n",
    "#MODELE\n",
    "learning_rate = 1e-4\n",
    "score_weight = 3\n",
    "drop_encode = 0.5\n",
    "l1_lambda_fc1, l2_lambda_fc1 = 1e-3, 1e-3\n",
    "weight_decay = 3e-5\n",
    "\n",
    "batch_size = 1\n",
    "nb_epoch = 45\n",
    "num_workers = 10\n",
    "patience = 3"
   ]
  },
  {
   "cell_type": "code",
   "execution_count": 3,
   "metadata": {},
   "outputs": [],
   "source": [
    "base = '/media/nguyen-k/nnUNet_trained_models/nnUNet/3d_fullres'\n",
    "list_task = os.listdir(base)\n",
    "\n",
    "for t in list_task :\n",
    "    if task in t :\n",
    "        folders = os.path.join(base, t, 'nnUNetTrainerV2__nnUNetPlansv2.1')"
   ]
  },
  {
   "cell_type": "code",
   "execution_count": 4,
   "metadata": {},
   "outputs": [
    {
     "name": "stdout",
     "output_type": "stream",
     "text": [
      "[Errno 17] File exists: '/home/nguyen-k/Bureau/segCassiopet/Comparatif/Multitask_PET_L0_E45'\n",
      "LIST PATIENT 0  - FOLD 1\n",
      "\n",
      "folds is None so we will automatically look for output folders (not using 'all'!)\n",
      "found the following folds:  ['/media/nguyen-k/nnUNet_trained_models/nnUNet/3d_fullres/Task001/nnUNetTrainerV2__nnUNetPlansv2.1/fold_0']\n",
      "using the following model files:  ['/media/nguyen-k/nnUNet_trained_models/nnUNet/3d_fullres/Task001/nnUNetTrainerV2__nnUNetPlansv2.1/fold_0/model_best.model']\n",
      "LIST PATIENT 0  - FOLD 1  - VALIDATION\n",
      "Classification\n",
      "Micro F1 score  0.5\n",
      "Macro F1 score  0.3140740740740741\n",
      "Weighted F1 score  0.5120987654320988\n",
      " \n",
      "Segmentation\n",
      "Détection :  0.4\n",
      "Dice :  0.33\n"
     ]
    },
    {
     "name": "stderr",
     "output_type": "stream",
     "text": [
      "/home/nguyen-k/Bureau/segCassiopet/roc_Precision_Recall.py:81: UserWarning: Matplotlib is currently using agg, which is a non-GUI backend, so cannot show the figure.\n",
      "  plt.show()\n"
     ]
    },
    {
     "name": "stdout",
     "output_type": "stream",
     "text": [
      "LIST PATIENT 0  - FOLD 1  - TEST\n",
      "Classification\n",
      "Micro F1 score  0.5102040816326531\n",
      "Macro F1 score  0.42014652014652015\n",
      "Weighted F1 score  0.5341332137250505\n",
      " \n",
      "Segmentation\n",
      "Détection :  0.42\n",
      "Dice :  0.36\n"
     ]
    },
    {
     "name": "stderr",
     "output_type": "stream",
     "text": [
      "/home/nguyen-k/Bureau/segCassiopet/roc_Precision_Recall.py:81: UserWarning: Matplotlib is currently using agg, which is a non-GUI backend, so cannot show the figure.\n",
      "  plt.show()\n"
     ]
    },
    {
     "name": "stdout",
     "output_type": "stream",
     "text": [
      " \n",
      "LIST PATIENT 0  - FOLD 2\n",
      "folds is None so we will automatically look for output folders (not using 'all'!)\n",
      "found the following folds:  ['/media/nguyen-k/nnUNet_trained_models/nnUNet/3d_fullres/Task001/nnUNetTrainerV2__nnUNetPlansv2.1/fold_0']\n",
      "using the following model files:  ['/media/nguyen-k/nnUNet_trained_models/nnUNet/3d_fullres/Task001/nnUNetTrainerV2__nnUNetPlansv2.1/fold_0/model_best.model']\n",
      "LIST PATIENT 0  - FOLD 2  - VALIDATION\n",
      "Classification\n",
      "Micro F1 score  0.5833333333333334\n",
      "Macro F1 score  0.3176638176638177\n",
      "Weighted F1 score  0.563034188034188\n",
      " \n",
      "Segmentation\n",
      "Détection :  0.41\n",
      "Dice :  0.26\n"
     ]
    },
    {
     "name": "stderr",
     "output_type": "stream",
     "text": [
      "/home/nguyen-k/Bureau/segCassiopet/roc_Precision_Recall.py:81: UserWarning: Matplotlib is currently using agg, which is a non-GUI backend, so cannot show the figure.\n",
      "  plt.show()\n"
     ]
    },
    {
     "name": "stdout",
     "output_type": "stream",
     "text": [
      "LIST PATIENT 0  - FOLD 2  - TEST\n",
      "Classification\n",
      "Micro F1 score  0.673469387755102\n",
      "Macro F1 score  0.5330917874396136\n",
      "Weighted F1 score  0.677033422064478\n",
      " \n",
      "Segmentation\n",
      "Détection :  0.42\n",
      "Dice :  0.35\n"
     ]
    },
    {
     "name": "stderr",
     "output_type": "stream",
     "text": [
      "/home/nguyen-k/Bureau/segCassiopet/roc_Precision_Recall.py:81: UserWarning: Matplotlib is currently using agg, which is a non-GUI backend, so cannot show the figure.\n",
      "  plt.show()\n"
     ]
    },
    {
     "name": "stdout",
     "output_type": "stream",
     "text": [
      " \n",
      "LIST PATIENT 0  - FOLD 3\n",
      "folds is None so we will automatically look for output folders (not using 'all'!)\n",
      "found the following folds:  ['/media/nguyen-k/nnUNet_trained_models/nnUNet/3d_fullres/Task001/nnUNetTrainerV2__nnUNetPlansv2.1/fold_0']\n",
      "using the following model files:  ['/media/nguyen-k/nnUNet_trained_models/nnUNet/3d_fullres/Task001/nnUNetTrainerV2__nnUNetPlansv2.1/fold_0/model_best.model']\n",
      "LIST PATIENT 0  - FOLD 3  - VALIDATION\n",
      "Classification\n",
      "Micro F1 score  0.6111111111111112\n",
      "Macro F1 score  0.3547008547008547\n",
      "Weighted F1 score  0.5908119658119658\n",
      " \n",
      "Segmentation\n",
      "Détection :  0.24\n",
      "Dice :  0.29\n"
     ]
    },
    {
     "name": "stderr",
     "output_type": "stream",
     "text": [
      "/home/nguyen-k/Bureau/segCassiopet/roc_Precision_Recall.py:81: UserWarning: Matplotlib is currently using agg, which is a non-GUI backend, so cannot show the figure.\n",
      "  plt.show()\n"
     ]
    },
    {
     "name": "stdout",
     "output_type": "stream",
     "text": [
      "LIST PATIENT 0  - FOLD 3  - TEST\n",
      "Classification\n",
      "Micro F1 score  0.4489795918367347\n",
      "Macro F1 score  0.25771604938271603\n",
      "Weighted F1 score  0.4796863189720333\n",
      " \n",
      "Segmentation\n",
      "Détection :  0.4\n",
      "Dice :  0.38\n"
     ]
    },
    {
     "name": "stderr",
     "output_type": "stream",
     "text": [
      "/home/nguyen-k/Bureau/segCassiopet/roc_Precision_Recall.py:81: UserWarning: Matplotlib is currently using agg, which is a non-GUI backend, so cannot show the figure.\n",
      "  plt.show()\n"
     ]
    },
    {
     "name": "stdout",
     "output_type": "stream",
     "text": [
      " \n",
      "LIST PATIENT 0  - FOLD 4\n",
      "folds is None so we will automatically look for output folders (not using 'all'!)\n",
      "found the following folds:  ['/media/nguyen-k/nnUNet_trained_models/nnUNet/3d_fullres/Task001/nnUNetTrainerV2__nnUNetPlansv2.1/fold_0']\n",
      "using the following model files:  ['/media/nguyen-k/nnUNet_trained_models/nnUNet/3d_fullres/Task001/nnUNetTrainerV2__nnUNetPlansv2.1/fold_0/model_best.model']\n",
      "LIST PATIENT 0  - FOLD 4  - VALIDATION\n",
      "Classification\n",
      "Micro F1 score  0.6666666666666666\n",
      "Macro F1 score  0.35714285714285704\n",
      "Weighted F1 score  0.6170634920634919\n",
      " \n",
      "Segmentation\n",
      "Détection :  0.29\n",
      "Dice :  0.25\n"
     ]
    },
    {
     "name": "stderr",
     "output_type": "stream",
     "text": [
      "/home/nguyen-k/Bureau/segCassiopet/roc_Precision_Recall.py:81: UserWarning: Matplotlib is currently using agg, which is a non-GUI backend, so cannot show the figure.\n",
      "  plt.show()\n"
     ]
    },
    {
     "name": "stdout",
     "output_type": "stream",
     "text": [
      "LIST PATIENT 0  - FOLD 4  - TEST\n",
      "Classification\n",
      "Micro F1 score  0.6530612244897959\n",
      "Macro F1 score  0.3076139546727782\n",
      "Weighted F1 score  0.6015497107934082\n",
      " \n",
      "Segmentation\n",
      "Détection :  0.37\n",
      "Dice :  0.35\n"
     ]
    },
    {
     "name": "stderr",
     "output_type": "stream",
     "text": [
      "/home/nguyen-k/Bureau/segCassiopet/roc_Precision_Recall.py:81: UserWarning: Matplotlib is currently using agg, which is a non-GUI backend, so cannot show the figure.\n",
      "  plt.show()\n"
     ]
    },
    {
     "name": "stdout",
     "output_type": "stream",
     "text": [
      " \n",
      "LIST PATIENT 0  - FOLD 5\n",
      "folds is None so we will automatically look for output folders (not using 'all'!)\n",
      "found the following folds:  ['/media/nguyen-k/nnUNet_trained_models/nnUNet/3d_fullres/Task001/nnUNetTrainerV2__nnUNetPlansv2.1/fold_0']\n",
      "using the following model files:  ['/media/nguyen-k/nnUNet_trained_models/nnUNet/3d_fullres/Task001/nnUNetTrainerV2__nnUNetPlansv2.1/fold_0/model_best.model']\n",
      "LIST PATIENT 0  - FOLD 5  - VALIDATION\n",
      "Classification\n",
      "Micro F1 score  0.6388888888888888\n",
      "Macro F1 score  0.3481481481481481\n",
      "Weighted F1 score  0.5993827160493826\n",
      " \n",
      "Segmentation\n",
      "Détection :  0.35\n",
      "Dice :  0.28\n"
     ]
    },
    {
     "name": "stderr",
     "output_type": "stream",
     "text": [
      "/home/nguyen-k/Bureau/segCassiopet/roc_Precision_Recall.py:81: UserWarning: Matplotlib is currently using agg, which is a non-GUI backend, so cannot show the figure.\n",
      "  plt.show()\n"
     ]
    },
    {
     "name": "stdout",
     "output_type": "stream",
     "text": [
      "LIST PATIENT 0  - FOLD 5  - TEST\n",
      "Classification\n",
      "Micro F1 score  0.5918367346938775\n",
      "Macro F1 score  0.28810457516339866\n",
      "Weighted F1 score  0.5597438975590235\n",
      " \n",
      "Segmentation\n",
      "Détection :  0.43\n",
      "Dice :  0.35\n"
     ]
    },
    {
     "name": "stderr",
     "output_type": "stream",
     "text": [
      "/home/nguyen-k/Bureau/segCassiopet/roc_Precision_Recall.py:81: UserWarning: Matplotlib is currently using agg, which is a non-GUI backend, so cannot show the figure.\n",
      "  plt.show()\n"
     ]
    },
    {
     "name": "stdout",
     "output_type": "stream",
     "text": [
      " \n",
      "LIST PATIENT 1  - FOLD 1\n",
      "folds is None so we will automatically look for output folders (not using 'all'!)\n",
      "found the following folds:  ['/media/nguyen-k/nnUNet_trained_models/nnUNet/3d_fullres/Task001/nnUNetTrainerV2__nnUNetPlansv2.1/fold_0']\n",
      "using the following model files:  ['/media/nguyen-k/nnUNet_trained_models/nnUNet/3d_fullres/Task001/nnUNetTrainerV2__nnUNetPlansv2.1/fold_0/model_best.model']\n",
      "Epoch    42: reducing learning rate of group 0 to 5.0000e-05.\n",
      "LIST PATIENT 1  - FOLD 1  - VALIDATION\n",
      "Classification\n",
      "Micro F1 score  0.6388888888888888\n",
      "Macro F1 score  0.264367816091954\n",
      "Weighted F1 score  0.5507662835249041\n",
      " \n",
      "Segmentation\n",
      "Détection :  0.39\n",
      "Dice :  0.28\n"
     ]
    },
    {
     "name": "stderr",
     "output_type": "stream",
     "text": [
      "/home/nguyen-k/Bureau/segCassiopet/roc_Precision_Recall.py:81: UserWarning: Matplotlib is currently using agg, which is a non-GUI backend, so cannot show the figure.\n",
      "  plt.show()\n"
     ]
    },
    {
     "name": "stdout",
     "output_type": "stream",
     "text": [
      "LIST PATIENT 1  - FOLD 1  - TEST\n",
      "Classification\n",
      "Micro F1 score  0.5918367346938775\n",
      "Macro F1 score  0.31324200913242\n",
      "Weighted F1 score  0.5732736930388593\n",
      " \n",
      "Segmentation\n",
      "Détection :  0.29\n",
      "Dice :  0.33\n"
     ]
    },
    {
     "name": "stderr",
     "output_type": "stream",
     "text": [
      "/home/nguyen-k/Bureau/segCassiopet/roc_Precision_Recall.py:81: UserWarning: Matplotlib is currently using agg, which is a non-GUI backend, so cannot show the figure.\n",
      "  plt.show()\n"
     ]
    },
    {
     "name": "stdout",
     "output_type": "stream",
     "text": [
      " \n",
      "LIST PATIENT 1  - FOLD 2\n",
      "folds is None so we will automatically look for output folders (not using 'all'!)\n",
      "found the following folds:  ['/media/nguyen-k/nnUNet_trained_models/nnUNet/3d_fullres/Task001/nnUNetTrainerV2__nnUNetPlansv2.1/fold_0']\n",
      "using the following model files:  ['/media/nguyen-k/nnUNet_trained_models/nnUNet/3d_fullres/Task001/nnUNetTrainerV2__nnUNetPlansv2.1/fold_0/model_best.model']\n",
      "LIST PATIENT 1  - FOLD 2  - VALIDATION\n",
      "Classification\n",
      "Micro F1 score  0.6944444444444444\n",
      "Macro F1 score  0.5473137973137973\n",
      "Weighted F1 score  0.6459350834350833\n",
      " \n",
      "Segmentation\n",
      "Détection :  0.47\n",
      "Dice :  0.36\n"
     ]
    },
    {
     "name": "stderr",
     "output_type": "stream",
     "text": [
      "/home/nguyen-k/Bureau/segCassiopet/roc_Precision_Recall.py:81: UserWarning: Matplotlib is currently using agg, which is a non-GUI backend, so cannot show the figure.\n",
      "  plt.show()\n"
     ]
    },
    {
     "name": "stdout",
     "output_type": "stream",
     "text": [
      "LIST PATIENT 1  - FOLD 2  - TEST\n",
      "Classification\n",
      "Micro F1 score  0.5918367346938775\n",
      "Macro F1 score  0.307181403071814\n",
      "Weighted F1 score  0.5691920603857981\n",
      " \n",
      "Segmentation\n",
      "Détection :  0.31\n",
      "Dice :  0.32\n"
     ]
    },
    {
     "name": "stderr",
     "output_type": "stream",
     "text": [
      "/home/nguyen-k/Bureau/segCassiopet/roc_Precision_Recall.py:81: UserWarning: Matplotlib is currently using agg, which is a non-GUI backend, so cannot show the figure.\n",
      "  plt.show()\n"
     ]
    },
    {
     "name": "stdout",
     "output_type": "stream",
     "text": [
      " \n",
      "LIST PATIENT 1  - FOLD 3\n",
      "folds is None so we will automatically look for output folders (not using 'all'!)\n",
      "found the following folds:  ['/media/nguyen-k/nnUNet_trained_models/nnUNet/3d_fullres/Task001/nnUNetTrainerV2__nnUNetPlansv2.1/fold_0']\n",
      "using the following model files:  ['/media/nguyen-k/nnUNet_trained_models/nnUNet/3d_fullres/Task001/nnUNetTrainerV2__nnUNetPlansv2.1/fold_0/model_best.model']\n",
      "LIST PATIENT 1  - FOLD 3  - VALIDATION\n",
      "Classification\n",
      "Micro F1 score  0.4722222222222222\n",
      "Macro F1 score  0.25472411186696897\n",
      "Weighted F1 score  0.48129251700680276\n",
      " \n",
      "Segmentation\n",
      "Détection :  0.37\n",
      "Dice :  0.29\n"
     ]
    },
    {
     "name": "stderr",
     "output_type": "stream",
     "text": [
      "/home/nguyen-k/Bureau/segCassiopet/roc_Precision_Recall.py:81: UserWarning: Matplotlib is currently using agg, which is a non-GUI backend, so cannot show the figure.\n",
      "  plt.show()\n"
     ]
    },
    {
     "name": "stdout",
     "output_type": "stream",
     "text": [
      "LIST PATIENT 1  - FOLD 3  - TEST\n",
      "Classification\n",
      "Micro F1 score  0.5714285714285714\n",
      "Macro F1 score  0.24888888888888885\n",
      "Weighted F1 score  0.5333333333333332\n",
      " \n",
      "Segmentation\n",
      "Détection :  0.24\n",
      "Dice :  0.3\n"
     ]
    },
    {
     "name": "stderr",
     "output_type": "stream",
     "text": [
      "/home/nguyen-k/Bureau/segCassiopet/roc_Precision_Recall.py:81: UserWarning: Matplotlib is currently using agg, which is a non-GUI backend, so cannot show the figure.\n",
      "  plt.show()\n"
     ]
    },
    {
     "name": "stdout",
     "output_type": "stream",
     "text": [
      " \n",
      "LIST PATIENT 1  - FOLD 4\n",
      "folds is None so we will automatically look for output folders (not using 'all'!)\n",
      "found the following folds:  ['/media/nguyen-k/nnUNet_trained_models/nnUNet/3d_fullres/Task001/nnUNetTrainerV2__nnUNetPlansv2.1/fold_0']\n",
      "using the following model files:  ['/media/nguyen-k/nnUNet_trained_models/nnUNet/3d_fullres/Task001/nnUNetTrainerV2__nnUNetPlansv2.1/fold_0/model_best.model']\n",
      "LIST PATIENT 1  - FOLD 4  - VALIDATION\n",
      "Classification\n",
      "Micro F1 score  0.6388888888888888\n",
      "Macro F1 score  0.2598870056497175\n",
      "Weighted F1 score  0.5414312617702448\n",
      " \n",
      "Segmentation\n",
      "Détection :  0.36\n",
      "Dice :  0.27\n"
     ]
    },
    {
     "name": "stderr",
     "output_type": "stream",
     "text": [
      "/home/nguyen-k/Bureau/segCassiopet/roc_Precision_Recall.py:81: UserWarning: Matplotlib is currently using agg, which is a non-GUI backend, so cannot show the figure.\n",
      "  plt.show()\n"
     ]
    },
    {
     "name": "stdout",
     "output_type": "stream",
     "text": [
      "LIST PATIENT 1  - FOLD 4  - TEST\n",
      "Classification\n",
      "Micro F1 score  0.6326530612244898\n",
      "Macro F1 score  0.26160337552742613\n",
      "Weighted F1 score  0.5605786618444846\n",
      " \n",
      "Segmentation\n",
      "Détection :  0.23\n",
      "Dice :  0.25\n"
     ]
    },
    {
     "name": "stderr",
     "output_type": "stream",
     "text": [
      "/home/nguyen-k/Bureau/segCassiopet/roc_Precision_Recall.py:81: UserWarning: Matplotlib is currently using agg, which is a non-GUI backend, so cannot show the figure.\n",
      "  plt.show()\n"
     ]
    },
    {
     "name": "stdout",
     "output_type": "stream",
     "text": [
      " \n",
      "LIST PATIENT 1  - FOLD 5\n",
      "folds is None so we will automatically look for output folders (not using 'all'!)\n",
      "found the following folds:  ['/media/nguyen-k/nnUNet_trained_models/nnUNet/3d_fullres/Task001/nnUNetTrainerV2__nnUNetPlansv2.1/fold_0']\n",
      "using the following model files:  ['/media/nguyen-k/nnUNet_trained_models/nnUNet/3d_fullres/Task001/nnUNetTrainerV2__nnUNetPlansv2.1/fold_0/model_best.model']\n",
      "LIST PATIENT 1  - FOLD 5  - VALIDATION\n",
      "Classification\n",
      "Micro F1 score  0.5277777777777778\n",
      "Macro F1 score  0.3222222222222222\n",
      "Weighted F1 score  0.5296296296296296\n",
      " \n",
      "Segmentation\n",
      "Détection :  0.32\n",
      "Dice :  0.31\n"
     ]
    },
    {
     "name": "stderr",
     "output_type": "stream",
     "text": [
      "/home/nguyen-k/Bureau/segCassiopet/roc_Precision_Recall.py:81: UserWarning: Matplotlib is currently using agg, which is a non-GUI backend, so cannot show the figure.\n",
      "  plt.show()\n"
     ]
    },
    {
     "name": "stdout",
     "output_type": "stream",
     "text": [
      "LIST PATIENT 1  - FOLD 5  - TEST\n",
      "Classification\n",
      "Micro F1 score  0.5510204081632653\n",
      "Macro F1 score  0.48426171529619805\n",
      "Weighted F1 score  0.5760569479781302\n",
      " \n",
      "Segmentation\n",
      "Détection :  0.26\n",
      "Dice :  0.31\n"
     ]
    },
    {
     "name": "stderr",
     "output_type": "stream",
     "text": [
      "/home/nguyen-k/Bureau/segCassiopet/roc_Precision_Recall.py:81: UserWarning: Matplotlib is currently using agg, which is a non-GUI backend, so cannot show the figure.\n",
      "  plt.show()\n"
     ]
    },
    {
     "name": "stdout",
     "output_type": "stream",
     "text": [
      " \n",
      "LIST PATIENT 2  - FOLD 1\n",
      "folds is None so we will automatically look for output folders (not using 'all'!)\n",
      "found the following folds:  ['/media/nguyen-k/nnUNet_trained_models/nnUNet/3d_fullres/Task001/nnUNetTrainerV2__nnUNetPlansv2.1/fold_0']\n",
      "using the following model files:  ['/media/nguyen-k/nnUNet_trained_models/nnUNet/3d_fullres/Task001/nnUNetTrainerV2__nnUNetPlansv2.1/fold_0/model_best.model']\n",
      "Epoch    41: reducing learning rate of group 0 to 5.0000e-05.\n",
      "LIST PATIENT 2  - FOLD 1  - VALIDATION\n",
      "Classification\n",
      "Micro F1 score  0.5555555555555556\n",
      "Macro F1 score  0.28280542986425344\n",
      "Weighted F1 score  0.5368903971845148\n",
      " \n",
      "Segmentation\n",
      "Détection :  0.42\n",
      "Dice :  0.31\n"
     ]
    },
    {
     "name": "stderr",
     "output_type": "stream",
     "text": [
      "/home/nguyen-k/Bureau/segCassiopet/roc_Precision_Recall.py:81: UserWarning: Matplotlib is currently using agg, which is a non-GUI backend, so cannot show the figure.\n",
      "  plt.show()\n"
     ]
    },
    {
     "name": "stdout",
     "output_type": "stream",
     "text": [
      "LIST PATIENT 2  - FOLD 1  - TEST\n",
      "Classification\n",
      "Micro F1 score  0.673469387755102\n",
      "Macro F1 score  0.34682964094728796\n",
      "Weighted F1 score  0.6279602750190986\n",
      " \n",
      "Segmentation\n",
      "Détection :  0.38\n",
      "Dice :  0.32\n"
     ]
    },
    {
     "name": "stderr",
     "output_type": "stream",
     "text": [
      "/home/nguyen-k/Bureau/segCassiopet/roc_Precision_Recall.py:81: UserWarning: Matplotlib is currently using agg, which is a non-GUI backend, so cannot show the figure.\n",
      "  plt.show()\n"
     ]
    },
    {
     "name": "stdout",
     "output_type": "stream",
     "text": [
      " \n",
      "LIST PATIENT 2  - FOLD 2\n",
      "folds is None so we will automatically look for output folders (not using 'all'!)\n",
      "found the following folds:  ['/media/nguyen-k/nnUNet_trained_models/nnUNet/3d_fullres/Task001/nnUNetTrainerV2__nnUNetPlansv2.1/fold_0']\n",
      "using the following model files:  ['/media/nguyen-k/nnUNet_trained_models/nnUNet/3d_fullres/Task001/nnUNetTrainerV2__nnUNetPlansv2.1/fold_0/model_best.model']\n",
      "LIST PATIENT 2  - FOLD 2  - VALIDATION\n",
      "Classification\n",
      "Micro F1 score  0.4722222222222222\n",
      "Macro F1 score  0.31006447995514436\n",
      "Weighted F1 score  0.4927109615923746\n",
      " \n",
      "Segmentation\n",
      "Détection :  0.42\n",
      "Dice :  0.31\n"
     ]
    },
    {
     "name": "stderr",
     "output_type": "stream",
     "text": [
      "/home/nguyen-k/Bureau/segCassiopet/roc_Precision_Recall.py:81: UserWarning: Matplotlib is currently using agg, which is a non-GUI backend, so cannot show the figure.\n",
      "  plt.show()\n"
     ]
    },
    {
     "name": "stdout",
     "output_type": "stream",
     "text": [
      "LIST PATIENT 2  - FOLD 2  - TEST\n",
      "Classification\n",
      "Micro F1 score  0.5714285714285714\n",
      "Macro F1 score  0.3801953965888392\n",
      "Weighted F1 score  0.577227612356418\n",
      " \n",
      "Segmentation\n",
      "Détection :  0.44\n",
      "Dice :  0.31\n"
     ]
    },
    {
     "name": "stderr",
     "output_type": "stream",
     "text": [
      "/home/nguyen-k/Bureau/segCassiopet/roc_Precision_Recall.py:81: UserWarning: Matplotlib is currently using agg, which is a non-GUI backend, so cannot show the figure.\n",
      "  plt.show()\n"
     ]
    },
    {
     "name": "stdout",
     "output_type": "stream",
     "text": [
      " \n",
      "LIST PATIENT 2  - FOLD 3\n",
      "folds is None so we will automatically look for output folders (not using 'all'!)\n",
      "found the following folds:  ['/media/nguyen-k/nnUNet_trained_models/nnUNet/3d_fullres/Task001/nnUNetTrainerV2__nnUNetPlansv2.1/fold_0']\n",
      "using the following model files:  ['/media/nguyen-k/nnUNet_trained_models/nnUNet/3d_fullres/Task001/nnUNetTrainerV2__nnUNetPlansv2.1/fold_0/model_best.model']\n",
      "LIST PATIENT 2  - FOLD 3  - VALIDATION\n",
      "Classification\n",
      "Micro F1 score  0.6111111111111112\n",
      "Macro F1 score  0.30216450216450214\n",
      "Weighted F1 score  0.562049062049062\n",
      " \n",
      "Segmentation\n",
      "Détection :  0.36\n",
      "Dice :  0.33\n"
     ]
    },
    {
     "name": "stderr",
     "output_type": "stream",
     "text": [
      "/home/nguyen-k/Bureau/segCassiopet/roc_Precision_Recall.py:81: UserWarning: Matplotlib is currently using agg, which is a non-GUI backend, so cannot show the figure.\n",
      "  plt.show()\n"
     ]
    },
    {
     "name": "stdout",
     "output_type": "stream",
     "text": [
      "LIST PATIENT 2  - FOLD 3  - TEST\n",
      "Classification\n",
      "Micro F1 score  0.673469387755102\n",
      "Macro F1 score  0.3433886375062845\n",
      "Weighted F1 score  0.6205866962169483\n",
      " \n",
      "Segmentation\n",
      "Détection :  0.38\n",
      "Dice :  0.29\n"
     ]
    },
    {
     "name": "stderr",
     "output_type": "stream",
     "text": [
      "/home/nguyen-k/Bureau/segCassiopet/roc_Precision_Recall.py:81: UserWarning: Matplotlib is currently using agg, which is a non-GUI backend, so cannot show the figure.\n",
      "  plt.show()\n"
     ]
    },
    {
     "name": "stdout",
     "output_type": "stream",
     "text": [
      " \n",
      "LIST PATIENT 2  - FOLD 4\n",
      "folds is None so we will automatically look for output folders (not using 'all'!)\n",
      "found the following folds:  ['/media/nguyen-k/nnUNet_trained_models/nnUNet/3d_fullres/Task001/nnUNetTrainerV2__nnUNetPlansv2.1/fold_0']\n",
      "using the following model files:  ['/media/nguyen-k/nnUNet_trained_models/nnUNet/3d_fullres/Task001/nnUNetTrainerV2__nnUNetPlansv2.1/fold_0/model_best.model']\n",
      "LIST PATIENT 2  - FOLD 4  - VALIDATION\n",
      "Classification\n",
      "Micro F1 score  0.6111111111111112\n",
      "Macro F1 score  0.2976190476190476\n",
      "Weighted F1 score  0.5565476190476191\n",
      " \n",
      "Segmentation\n",
      "Détection :  0.34\n",
      "Dice :  0.33\n"
     ]
    },
    {
     "name": "stderr",
     "output_type": "stream",
     "text": [
      "/home/nguyen-k/Bureau/segCassiopet/roc_Precision_Recall.py:81: UserWarning: Matplotlib is currently using agg, which is a non-GUI backend, so cannot show the figure.\n",
      "  plt.show()\n"
     ]
    },
    {
     "name": "stdout",
     "output_type": "stream",
     "text": [
      "LIST PATIENT 2  - FOLD 4  - TEST\n",
      "Classification\n",
      "Micro F1 score  0.7142857142857143\n",
      "Macro F1 score  0.3618143459915612\n",
      "Weighted F1 score  0.6528674761043657\n",
      " \n",
      "Segmentation\n",
      "Détection :  0.33\n",
      "Dice :  0.31\n"
     ]
    },
    {
     "name": "stderr",
     "output_type": "stream",
     "text": [
      "/home/nguyen-k/Bureau/segCassiopet/roc_Precision_Recall.py:81: UserWarning: Matplotlib is currently using agg, which is a non-GUI backend, so cannot show the figure.\n",
      "  plt.show()\n"
     ]
    },
    {
     "name": "stdout",
     "output_type": "stream",
     "text": [
      " \n",
      "LIST PATIENT 2  - FOLD 5\n",
      "folds is None so we will automatically look for output folders (not using 'all'!)\n",
      "found the following folds:  ['/media/nguyen-k/nnUNet_trained_models/nnUNet/3d_fullres/Task001/nnUNetTrainerV2__nnUNetPlansv2.1/fold_0']\n",
      "using the following model files:  ['/media/nguyen-k/nnUNet_trained_models/nnUNet/3d_fullres/Task001/nnUNetTrainerV2__nnUNetPlansv2.1/fold_0/model_best.model']\n"
     ]
    }
   ],
   "source": [
    "for ind_list in range(3) : \n",
    "\n",
    "    test = 'Multitask_PET_L'+str(ind_list)+'_E45'\n",
    "    dir_base = '/home/nguyen-k/Bureau/segCassiopet/Comparatif/'+test\n",
    "    try:\n",
    "        os.mkdir(dir_base)\n",
    "    except OSError as error: \n",
    "        print(error) \n",
    "\n",
    "    path_list = '/home/nguyen-k/Bureau/segCassiopet/List_Patient_'+str(ind_list)\n",
    "    list_test = list(np.load(path_list + '/Test/list_test.npy'))\n",
    "    test_label_classe = np.load(path_list + '/Test/test_label_classe.npy')   \n",
    "    test_prob = np.zeros((len(list_test), 3))\n",
    "    np.save(dir_base+'/list_test.npy', list_test)\n",
    "    np.save(dir_base+'/test_label_classe.npy', test_label_classe)\n",
    "\n",
    "    for fold in range(1, 6) :\n",
    "        print('LIST PATIENT', ind_list, ' - FOLD', fold)  \n",
    "\n",
    "        dir_p = dir_base+'/Fold'+str(fold)\n",
    "        dir_p_1 = dir_p+'/Fig_seg_val'\n",
    "        dir_p_2 = dir_p+'/Fig_seg_test'\n",
    "\n",
    "        try:\n",
    "            os.mkdir(dir_p)\n",
    "            os.mkdir(dir_p_1)\n",
    "            os.mkdir(dir_p_2)\n",
    "        except OSError as error: \n",
    "            print('') \n",
    "\n",
    "        #TRAIN     \n",
    "        trainer, params_tr = load_model_and_checkpoint_files(folders, folds=None, mixed_precision=None, checkpoint_name=\"model_best\")\n",
    "        nn_Unet = nnUnet(trainer.network)\n",
    "        state_dict = trainer.network.state_dict()\n",
    "        nn_Unet.load_state_dict(state_dict)\n",
    "        MultitaskNet = Multitask_Net(nn_Unet, drop_encode=drop_encode).cuda()   \n",
    "\n",
    "        train(fold, MultitaskNet, nb_epoch, score_weight, l1_lambda_fc1, l2_lambda_fc1, dim, spacing, scale, sigma, \n",
    "                    num_workers, drop_encode, batch_size, learning_rate, patience, weight_decay, dir_p, path_list, seed)\n",
    "        \n",
    "        #EVALUATION\n",
    "        print('LIST PATIENT', ind_list, ' - FOLD', fold, ' - VALIDATION')\n",
    "        path_train_val = os.path.join(path_list, 'Fold'+ str(fold))\n",
    "        list_val = list(np.load(path_train_val+'/list_val.npy'))\n",
    "        val_label_classe = np.load(path_train_val+'/val_label_classe.npy')\n",
    "        evaluation(MultitaskNet, list_val, val_label_classe, scale, sigma, dim, spacing, batch_size, num_workers, dir_p_1)\n",
    "\n",
    "        #TEST\n",
    "        print('LIST PATIENT', ind_list, ' - FOLD', fold, ' - TEST')\n",
    "        test_prob = evaluation(MultitaskNet, list_test, test_label_classe, scale, sigma, dim, spacing, batch_size, num_workers, dir_p_2)\n",
    "        np.save(os.path.join(dir_p, 'test_prob.npy'), test_prob)\n",
    "        print(' ')\n",
    "\n",
    "        del MultitaskNet"
   ]
  },
  {
   "cell_type": "code",
   "execution_count": null,
   "metadata": {},
   "outputs": [],
   "source": [
    "os.system('jupyter nbconvert --to python roc_Precision_Recall.ipynb')\n",
    "from roc_Precision_Recall import *\n",
    "#from sklearn.metrics import confusion_matrix\n",
    "\n",
    "for ind_list in range(3) : \n",
    "\n",
    "    print('LIST PATIENT', ind_list)  \n",
    "\n",
    "    test = 'Multitask_PET_L'+str(ind_list)+'_E45'\n",
    "    dir_base = '/home/nguyen-k/Bureau/segCassiopet/Comparatif/'+test\n",
    "\n",
    "    fold = 1\n",
    "    dir_p = dir_base+'/Fold'+str(fold)\n",
    "    sum = np.load(os.path.join(dir_p, 'test_prob.npy'))\n",
    "\n",
    "    path_list = '/home/nguyen-k/Bureau/segCassiopet/List_Patient_'+str(ind_list)\n",
    "    list_test = list(np.load(path_list + '/Test/list_test.npy'))\n",
    "    test_label_classe = np.load(path_list + '/Test/test_label_classe.npy')   \n",
    "    test_label_classe = np.array(test_label_classe, dtype=np.uint8)\n",
    "\n",
    "    for fold in range(2, 6) :\n",
    "        dir_p = dir_base+'/Fold'+str(fold)\n",
    "        test_prob = np.load(os.path.join(dir_p, 'test_prob.npy'))\n",
    "        sum += test_prob\n",
    "\n",
    "    test_prob = sum / 5\n",
    "\n",
    "    pred = np.zeros(test_label_classe.shape[0])\n",
    "    for i in range(test_label_classe.shape[0]) : \n",
    "        pred[i] = np.argmax(test_prob[i])\n",
    "\n",
    "    mat_label = np.zeros((test_label_classe.shape[0],3))\n",
    "    for i in range(test_label_classe.shape[0]) :\n",
    "        mat_label[i, int(test_label_classe[i])] = 1\n",
    "\n",
    "    roc_auc, fpr, tpr = compute_ROC_auc(y_label=mat_label,y_predicted=test_prob,n_classes=3)\n",
    "    plt.clf()\n",
    "    plot_ROC_curve(fpr,tpr,roc_auc,classe=0,color='blue')\n",
    "    plot_ROC_curve(fpr,tpr,roc_auc,classe=1,color='red')\n",
    "    plot_ROC_curve(fpr,tpr,roc_auc,classe=2,color='black')\n",
    "    plt.savefig(dir_base+'/ROC.png')\n",
    "\n",
    "    precision, recall,average_precision = compute_precision_recall(y_label=mat_label,y_predicted=test_prob,n_classes=3)\n",
    "    plot_precision_recall_curve(precision, recall, average_precision,n_classes=3,color=['blue','red','black'])\n",
    "    plt.savefig(dir_base+'/AUC.png')\n",
    "\n",
    "    print('Micro F1 score ', f1_score(y_true=test_label_classe, y_pred=pred, average='micro'))\n",
    "    print('Macro F1 score ', f1_score(y_true=test_label_classe, y_pred=pred, average='macro'))\n",
    "    print('Weighted F1 score ', f1_score(y_true=test_label_classe, y_pred=pred, average='weighted'))\n",
    "\n",
    "    '''matrix = confusion_matrix(test_label_classe, pred)\n",
    "    accracy_per_class = matrix.diagonal()/matrix.sum(axis=1)\n",
    "    print('Accuracy C1 = ', accracy_per_class[0])\n",
    "    print('Accuracy C2 = ', accracy_per_class[1])\n",
    "    print('Accuracy C3 = ', accracy_per_class[2])'''"
   ]
  },
  {
   "cell_type": "code",
   "execution_count": null,
   "metadata": {},
   "outputs": [],
   "source": [
    "test_label_classe"
   ]
  },
  {
   "cell_type": "code",
   "execution_count": null,
   "metadata": {},
   "outputs": [],
   "source": [
    "pred.astype(dtype=np.uint8)"
   ]
  },
  {
   "cell_type": "code",
   "execution_count": null,
   "metadata": {},
   "outputs": [],
   "source": [
    "test_prob[0]"
   ]
  },
  {
   "cell_type": "code",
   "execution_count": null,
   "metadata": {},
   "outputs": [],
   "source": [
    "dir_base = '/home/nguyen-k/Bureau/segCassiopet/Comparatif/Multitask_PET_L0'"
   ]
  },
  {
   "cell_type": "code",
   "execution_count": null,
   "metadata": {},
   "outputs": [],
   "source": [
    "from shutil import copyfile\n",
    "copyfile('/home/nguyen-k/Bureau/segCassiopet/Pytorch_multitask.ipynb', dir_base+'/Pytorch_multitask.ipynb')"
   ]
  }
 ],
 "metadata": {
  "interpreter": {
   "hash": "31f2aee4e71d21fbe5cf8b01ff0e069b9275f58929596ceb00d14d90e3e16cd6"
  },
  "kernelspec": {
   "display_name": "Python 3.8.10 64-bit",
   "language": "python",
   "name": "python3"
  },
  "language_info": {
   "codemirror_mode": {
    "name": "ipython",
    "version": 3
   },
   "file_extension": ".py",
   "mimetype": "text/x-python",
   "name": "python",
   "nbconvert_exporter": "python",
   "pygments_lexer": "ipython3",
   "version": "3.9.5"
  },
  "orig_nbformat": 4
 },
 "nbformat": 4,
 "nbformat_minor": 2
}
